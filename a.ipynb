{
  "nbformat": 4,
  "nbformat_minor": 0,
  "metadata": {
    "colab": {
      "name": "a.ipynb",
      "provenance": []
    },
    "kernelspec": {
      "name": "python3",
      "display_name": "Python 3"
    }
  },
  "cells": [
    {
      "cell_type": "code",
      "metadata": {
        "id": "bqw7PPmM2MXI"
      },
      "source": [
        "import pandas as pd"
      ],
      "execution_count": 1,
      "outputs": []
    },
    {
      "cell_type": "code",
      "metadata": {
        "id": "uqSD-kaq24DD"
      },
      "source": [
        "df = pd.read_csv(\"/content/kanji_kana_meaning.csv\", header=None)\n",
        "df.columns = [\"kana\", \"hiragana\", \"meaning\"]"
      ],
      "execution_count": 14,
      "outputs": []
    },
    {
      "cell_type": "code",
      "metadata": {
        "colab": {
          "base_uri": "https://localhost:8080/",
          "height": 419
        },
        "id": "vPUQpASm28fb",
        "outputId": "d45257bd-aec7-4e86-a119-cea046bab9bd"
      },
      "source": [
        "df"
      ],
      "execution_count": 15,
      "outputs": [
        {
          "output_type": "execute_result",
          "data": {
            "text/html": [
              "<div>\n",
              "<style scoped>\n",
              "    .dataframe tbody tr th:only-of-type {\n",
              "        vertical-align: middle;\n",
              "    }\n",
              "\n",
              "    .dataframe tbody tr th {\n",
              "        vertical-align: top;\n",
              "    }\n",
              "\n",
              "    .dataframe thead th {\n",
              "        text-align: right;\n",
              "    }\n",
              "</style>\n",
              "<table border=\"1\" class=\"dataframe\">\n",
              "  <thead>\n",
              "    <tr style=\"text-align: right;\">\n",
              "      <th></th>\n",
              "      <th>kana</th>\n",
              "      <th>hiragana</th>\n",
              "      <th>meaning</th>\n",
              "    </tr>\n",
              "  </thead>\n",
              "  <tbody>\n",
              "    <tr>\n",
              "      <th>0</th>\n",
              "      <td>日</td>\n",
              "      <td>ひ</td>\n",
              "      <td>day; days; sun; sunshine; sunlight; case (esp....</td>\n",
              "    </tr>\n",
              "    <tr>\n",
              "      <th>1</th>\n",
              "      <td>一</td>\n",
              "      <td>いち</td>\n",
              "      <td>one; best; first; foremost; beginning; start; ...</td>\n",
              "    </tr>\n",
              "    <tr>\n",
              "      <th>2</th>\n",
              "      <td>大</td>\n",
              "      <td>おお</td>\n",
              "      <td>big; large</td>\n",
              "    </tr>\n",
              "    <tr>\n",
              "      <th>3</th>\n",
              "      <td>十</td>\n",
              "      <td>じゅう、とお、と</td>\n",
              "      <td>ten</td>\n",
              "    </tr>\n",
              "    <tr>\n",
              "      <th>4</th>\n",
              "      <td>二</td>\n",
              "      <td>に、ふた、ふ、ふう</td>\n",
              "      <td>two</td>\n",
              "    </tr>\n",
              "    <tr>\n",
              "      <th>...</th>\n",
              "      <td>...</td>\n",
              "      <td>...</td>\n",
              "      <td>...</td>\n",
              "    </tr>\n",
              "    <tr>\n",
              "      <th>1302</th>\n",
              "      <td>繭</td>\n",
              "      <td>まゆ</td>\n",
              "      <td>cocoon</td>\n",
              "    </tr>\n",
              "    <tr>\n",
              "      <th>1303</th>\n",
              "      <td>釘</td>\n",
              "      <td>くぎ</td>\n",
              "      <td>nail (i.e. small metal spike)</td>\n",
              "    </tr>\n",
              "    <tr>\n",
              "      <th>1304</th>\n",
              "      <td>狸</td>\n",
              "      <td>たぬき、タヌキ</td>\n",
              "      <td>tanuki (Nyctereutes procyonoides); raccoon dog...</td>\n",
              "    </tr>\n",
              "    <tr>\n",
              "      <th>1305</th>\n",
              "      <td>壬</td>\n",
              "      <td>じん、みずのえ</td>\n",
              "      <td>9th in rank; ninth sign of the Chinese calendar</td>\n",
              "    </tr>\n",
              "    <tr>\n",
              "      <th>1306</th>\n",
              "      <td>硯</td>\n",
              "      <td>すずり</td>\n",
              "      <td>inkstone</td>\n",
              "    </tr>\n",
              "  </tbody>\n",
              "</table>\n",
              "<p>1307 rows × 3 columns</p>\n",
              "</div>"
            ],
            "text/plain": [
              "     kana   hiragana                                            meaning\n",
              "0       日          ひ  day; days; sun; sunshine; sunlight; case (esp....\n",
              "1       一         いち  one; best; first; foremost; beginning; start; ...\n",
              "2       大         おお                                         big; large\n",
              "3       十   じゅう、とお、と                                                ten\n",
              "4       二  に、ふた、ふ、ふう                                                two\n",
              "...   ...        ...                                                ...\n",
              "1302    繭         まゆ                                             cocoon\n",
              "1303    釘         くぎ                      nail (i.e. small metal spike)\n",
              "1304    狸    たぬき、タヌキ  tanuki (Nyctereutes procyonoides); raccoon dog...\n",
              "1305    壬    じん、みずのえ    9th in rank; ninth sign of the Chinese calendar\n",
              "1306    硯        すずり                                           inkstone\n",
              "\n",
              "[1307 rows x 3 columns]"
            ]
          },
          "metadata": {
            "tags": []
          },
          "execution_count": 15
        }
      ]
    },
    {
      "cell_type": "code",
      "metadata": {
        "id": "hZeAYhT9281x"
      },
      "source": [
        "s = \"\"\n",
        "for h in df[\"hiragana\"]:\n",
        "  h = h.split(\"、\")\n",
        "  s += h[0]"
      ],
      "execution_count": 21,
      "outputs": []
    },
    {
      "cell_type": "code",
      "metadata": {
        "id": "uzXztnNW7wG5"
      },
      "source": [
        "d = dict()\n",
        "\n",
        "for j in list(s):\n",
        "  if j in d.keys():\n",
        "    d[j] = d[j] + 1\n",
        "  else:\n",
        "    d[j] = 1\n",
        "\n",
        "d = sorted(d.items(), key=lambda x: x[1], reverse=True)"
      ],
      "execution_count": 38,
      "outputs": []
    },
    {
      "cell_type": "code",
      "metadata": {
        "colab": {
          "base_uri": "https://localhost:8080/"
        },
        "id": "M0AEomyv7win",
        "outputId": "b546d081-ca6d-4c33-c515-3e343e7fb3b1"
      },
      "source": [
        "d[0][1]"
      ],
      "execution_count": 42,
      "outputs": [
        {
          "output_type": "execute_result",
          "data": {
            "text/plain": [
              "176"
            ]
          },
          "metadata": {
            "tags": []
          },
          "execution_count": 42
        }
      ]
    },
    {
      "cell_type": "code",
      "metadata": {
        "id": "PTW-VRsE8iX2"
      },
      "source": [
        "temp = []\n",
        "for i in d:\n",
        "  temp.append([i[0], i[1] / d[0][1]])"
      ],
      "execution_count": 44,
      "outputs": []
    },
    {
      "cell_type": "code",
      "metadata": {
        "colab": {
          "base_uri": "https://localhost:8080/"
        },
        "id": "JGb7Xv-i-T0w",
        "outputId": "761d52cc-0b31-47d9-c3f2-8d4b283b1cc8"
      },
      "source": [
        "print(temp)"
      ],
      "execution_count": 47,
      "outputs": [
        {
          "output_type": "stream",
          "text": [
            "[['い', 1.0], ['う', 0.8806818181818182], ['か', 0.8011363636363636], ['る', 0.75], ['ん', 0.7329545454545454], ['く', 0.6818181818181818], ['し', 0.6420454545454546], ['き', 0.5568181818181818], ['と', 0.5], ['た', 0.4772727272727273], ['こ', 0.4659090909090909], ['つ', 0.4602272727272727], ['さ', 0.4090909090909091], ['お', 0.4034090909090909], ['ま', 0.4034090909090909], ['り', 0.4034090909090909], ['は', 0.3352272727272727], ['み', 0.32954545454545453], ['ら', 0.29545454545454547], ['あ', 0.2897727272727273], ['ょ', 0.2840909090909091], ['な', 0.2840909090909091], ['ち', 0.2727272727272727], ['も', 0.2556818181818182], ['じ', 0.22727272727272727], ['わ', 0.22727272727272727], ['け', 0.20454545454545456], ['す', 0.20454545454545456], ['ひ', 0.19886363636363635], ['め', 0.1875], ['え', 0.1875], ['や', 0.1875], ['に', 0.16477272727272727], ['ゅ', 0.1590909090909091], ['ど', 0.1590909090909091], ['の', 0.1590909090909091], ['せ', 0.14772727272727273], ['ろ', 0.14204545454545456], ['そ', 0.14204545454545456], ['だ', 0.13636363636363635], ['ふ', 0.13068181818181818], ['ぎ', 0.125], ['よ', 0.125], ['む', 0.125], ['ね', 0.125], ['ご', 0.11931818181818182], ['ず', 0.11931818181818182], ['ば', 0.11931818181818182], ['ほ', 0.10795454545454546], ['れ', 0.10795454545454546], ['が', 0.10795454545454546], ['び', 0.10795454545454546], ['ゆ', 0.10795454545454546], ['て', 0.10227272727272728], ['ぼ', 0.09090909090909091], ['げ', 0.07954545454545454], ['ぶ', 0.07954545454545454], ['ゃ', 0.0625], ['ぜ', 0.05113636363636364], ['ぞ', 0.05113636363636364], ['ざ', 0.03409090909090909], ['へ', 0.03409090909090909], ['ぐ', 0.03409090909090909], ['べ', 0.03409090909090909], ['っ', 0.028409090909090908], ['ぬ', 0.028409090909090908], ['で', 0.028409090909090908], ['づ', 0.022727272727272728], ['ぱ', 0.005681818181818182]]\n"
          ],
          "name": "stdout"
        }
      ]
    },
    {
      "cell_type": "code",
      "metadata": {
        "colab": {
          "base_uri": "https://localhost:8080/"
        },
        "id": "YrNq7QlX_Pml",
        "outputId": "65f74046-32aa-4ff1-b103-074e5d83516c"
      },
      "source": [
        "len(temp)"
      ],
      "execution_count": 46,
      "outputs": [
        {
          "output_type": "execute_result",
          "data": {
            "text/plain": [
              "69"
            ]
          },
          "metadata": {
            "tags": []
          },
          "execution_count": 46
        }
      ]
    },
    {
      "cell_type": "code",
      "metadata": {
        "id": "WA2YxZhn_TsS"
      },
      "source": [
        ""
      ],
      "execution_count": null,
      "outputs": []
    }
  ]
}